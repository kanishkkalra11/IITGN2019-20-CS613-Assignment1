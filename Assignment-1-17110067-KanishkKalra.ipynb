{
 "cells": [
  {
   "cell_type": "code",
   "execution_count": 251,
   "metadata": {},
   "outputs": [
    {
     "name": "stderr",
     "output_type": "stream",
     "text": [
      "[nltk_data] Downloading package punkt to C:\\Users\\Kanishk\n",
      "[nltk_data]     Kalra\\AppData\\Roaming\\nltk_data...\n",
      "[nltk_data]   Package punkt is already up-to-date!\n",
      "[nltk_data] Downloading package wordnet to C:\\Users\\Kanishk\n",
      "[nltk_data]     Kalra\\AppData\\Roaming\\nltk_data...\n",
      "[nltk_data]   Package wordnet is already up-to-date!\n"
     ]
    }
   ],
   "source": [
    "# make necessary imports\n",
    "\n",
    "import pandas as pd\n",
    "import numpy as np\n",
    "import re\n",
    "import math\n",
    "import matplotlib.pyplot as plt \n",
    "%matplotlib inline\n",
    "import nltk\n",
    "nltk.download('punkt')\n",
    "nltk.download('wordnet')\n",
    "from nltk.corpus import wordnet\n",
    "from nltk.probability import FreqDist"
   ]
  },
  {
   "cell_type": "code",
   "execution_count": 252,
   "metadata": {},
   "outputs": [],
   "source": [
    "# read the dataset\n",
    "\n",
    "data = pd.read_csv(\"tweets-dataset.csv\")\n",
    "doc = \"\"\n",
    "for i in range(24521):\n",
    "    doc = doc + data['Sentence'][i] + \"\\n\""
   ]
  },
  {
   "cell_type": "code",
   "execution_count": 253,
   "metadata": {},
   "outputs": [],
   "source": [
    "# clean the data\n",
    "\n",
    "# removing hashtags and usernames\n",
    "doc = re.sub(r'[@#][^\\s]*','',doc)\n",
    "# removing hyperlinks\n",
    "doc = re.sub(r'(pic.twitter)[^\\s]*','',doc)\n",
    "doc = re.sub(r'(http)[^\\s]*','',doc)\n",
    "# removing emoticons\n",
    "doc = re.sub(r'(:d)','',doc)\n",
    "doc = re.sub(r'(:D)','',doc)\n",
    "doc = re.sub(r'(:-d)','',doc)\n",
    "doc = re.sub(r'(:-D)','',doc)\n",
    "doc = re.sub(r'(:p)','',doc)\n",
    "doc = re.sub(r'(:P)','',doc)\n",
    "doc = re.sub(r'(:-p)','',doc)\n",
    "doc = re.sub(r'(:-P)','',doc)\n",
    "doc = re.sub(r'(:v)','',doc)\n",
    "doc = re.sub(r'(:V)','',doc)\n",
    "doc = re.sub(r'(:-v)','',doc)\n",
    "doc = re.sub(r'(:-V)','',doc)\n",
    "doc = re.sub(r'(:0)','',doc)\n",
    "doc = re.sub(r'(:-0)','',doc)\n",
    "doc = re.sub(r'(:o)','',doc)\n",
    "doc = re.sub(r'(:O)','',doc)\n",
    "doc = re.sub(r'(:-o)','',doc)\n",
    "doc = re.sub(r'(:-O)','',doc)\n",
    "doc = re.sub(r'(<3)','',doc)\n",
    "doc = re.sub(r'(<\\/3)','',doc)\n",
    "# removing special characters\n",
    "doc = re.sub(r'[^a-zA-Z0-9\\s]','',doc)\n",
    "# converting the data to lower case\n",
    "doc = doc.lower()"
   ]
  },
  {
   "cell_type": "code",
   "execution_count": 254,
   "metadata": {},
   "outputs": [
    {
     "name": "stdout",
     "output_type": "stream",
     "text": [
      "Number of tokens = 287839\n",
      "Number of types = 31992\n",
      "TTR = 0.11114546673661317\n"
     ]
    }
   ],
   "source": [
    "# find types, tokens and ttr\n",
    "\n",
    "tokens=nltk.word_tokenize(doc)\n",
    "\n",
    "a = len(tokens)\n",
    "print(\"Number of tokens = \" + str(a))\n",
    "\n",
    "b = len(set(tokens))\n",
    "print(\"Number of types = \" + str(b))\n",
    "\n",
    "c = b/a\n",
    "print(\"TTR = \" + str(c))"
   ]
  },
  {
   "cell_type": "code",
   "execution_count": 255,
   "metadata": {},
   "outputs": [],
   "source": [
    "# frequency distribution of all word types\n",
    "\n",
    "freq_distribution = sorted(FreqDist(tokens).items(),key=lambda k:k[1], reverse=True)\n",
    "# print(freq_distribution)"
   ]
  },
  {
   "cell_type": "markdown",
   "metadata": {},
   "source": [
    "# Zipf's law"
   ]
  },
  {
   "cell_type": "code",
   "execution_count": 256,
   "metadata": {},
   "outputs": [],
   "source": [
    "# NOTE: It is very difficult to show zipf's law for this dataset as it contains a lot of hindi words whose meanings\n",
    "# cannot be found.\n",
    "# Here, I have chosen some representative words from the dataset that help display the empirical relation."
   ]
  },
  {
   "cell_type": "code",
   "execution_count": 257,
   "metadata": {},
   "outputs": [
    {
     "data": {
      "image/png": "[encoded data removed]",
      "text/plain": [
       "<Figure size 432x288 with 1 Axes>"
      ]
     },
     "metadata": {
      "needs_background": "light"
     },
     "output_type": "display_data"
    }
   ],
   "source": [
    "# Zipf's law for length: plotted for all word types\n",
    "\n",
    "freq = []\n",
    "length = []\n",
    "for i in range(len(freq_distribution)):\n",
    "    length.append(len(freq_distribution[i][0]))\n",
    "    freq.append(freq_distribution[i][1])\n",
    "\n",
    "plt.plot(freq, length)\n",
    "plt.xlabel('frequency')\n",
    "plt.ylabel('length') \n",
    "plt.title('Zipf\\'s law for length') \n",
    "plt.show()"
   ]
  },
  {
   "cell_type": "code",
   "execution_count": 258,
   "metadata": {},
   "outputs": [
    {
     "data": {
      "image/png": "[encoded data removed]",
      "text/plain": [
       "<Figure size 432x288 with 1 Axes>"
      ]
     },
     "metadata": {
      "needs_background": "light"
     },
     "output_type": "display_data"
    }
   ],
   "source": [
    "# Zipf's law for meanings\n",
    "\n",
    "# indices of freq_distribution to consider for plotting\n",
    "indices = [86,149,173,217,303,373,453,1015,3126]\n",
    "freq = []\n",
    "meanings = []\n",
    "for i in range(len(indices)):\n",
    "    freq.append(freq_distribution[indices[i]][1])\n",
    "    meanings.append(len(wordnet.synsets(freq_distribution[indices[i]][0])))\n",
    "\n",
    "plt.plot(freq, meanings)\n",
    "plt.xlabel('frequency')\n",
    "plt.ylabel('meanings') \n",
    "plt.title('Zipf\\'s law for meanings') \n",
    "plt.show()"
   ]
  },
  {
   "cell_type": "markdown",
   "metadata": {},
   "source": [
    "# Heaps law"
   ]
  },
  {
   "cell_type": "code",
   "execution_count": 259,
   "metadata": {},
   "outputs": [],
   "source": [
    "# dividing the corpus into different sizes\n",
    "\n",
    "nos = 0\n",
    "aais = []\n",
    "for i in range(len(doc)):\n",
    "    if (doc[i]==\"\\n\"):\n",
    "        nos+=1\n",
    "        if (nos%100==0):\n",
    "            aais.append(i)\n",
    "\n",
    "N = []\n",
    "V = []\n",
    "\n",
    "for i in range(len(aais)):\n",
    "    tok = nltk.word_tokenize(doc[:aais[i]])\n",
    "    N.append(len(tok))\n",
    "    V.append(len(set(tok)))    "
   ]
  },
  {
   "cell_type": "code",
   "execution_count": 260,
   "metadata": {},
   "outputs": [
    {
     "data": {
      "image/png": "[encoded data removed]",
      "text/plain": [
       "<Figure size 432x288 with 1 Axes>"
      ]
     },
     "metadata": {
      "needs_background": "light"
     },
     "output_type": "display_data"
    }
   ],
   "source": [
    "# plot heaps law\n",
    "\n",
    "plt.plot(N, V) \n",
    "plt.xlabel('tokens')\n",
    "plt.ylabel('vocabulary')\n",
    "plt.title('Heaps law')\n",
    "plt.show()"
   ]
  },
  {
   "cell_type": "code",
   "execution_count": 261,
   "metadata": {},
   "outputs": [
    {
     "name": "stdout",
     "output_type": "stream",
     "text": [
      "k = 9.6894842204525\n",
      "beta = 0.6472177283483467\n"
     ]
    }
   ],
   "source": [
    "# determine k and beta using linear regression\n",
    "# heaps law is V = k(N^beta) or ln(V) = ln(k) + (beta)ln(N)\n",
    "# we use linear regression to find out ln(k) and beta\n",
    "\n",
    "for i in range(len(N)):\n",
    "    N[i] = math.log(N[i])\n",
    "    V[i] = math.log(V[i])\n",
    "N = np.array(N)\n",
    "V = np.array(V)\n",
    "\n",
    "# estimating coefficients\n",
    "\n",
    "# number of observations/points \n",
    "n = np.size(N) \n",
    "  \n",
    "# mean of N and V vector \n",
    "m_N, m_V = np.mean(N), np.mean(V) \n",
    "  \n",
    "# calculating cross-deviation and deviation about N \n",
    "SS_NV = np.sum(V*N) - n*m_V*m_N \n",
    "SS_NN = np.sum(N*N) - n*m_N*m_N \n",
    "  \n",
    "# calculating regression coefficients \n",
    "b_1 = SS_NV / SS_NN \n",
    "b_0 = m_V - b_1*m_N \n",
    "b_0 = math.exp(b_0)\n",
    "\n",
    "print(\"k = \" + str(b_0))\n",
    "print(\"beta = \" + str(b_1))"
   ]
  }
 ],
 "metadata": {
  "kernelspec": {
   "display_name": "Python 3",
   "language": "python",
   "name": "python3"
  },
  "language_info": {
   "codemirror_mode": {
    "name": "ipython",
    "version": 3
   },
   "file_extension": ".py",
   "mimetype": "text/x-python",
   "name": "python",
   "nbconvert_exporter": "python",
   "pygments_lexer": "ipython3",
   "version": "3.6.8"
  }
 },
 "nbformat": 4,
 "nbformat_minor": 2
}
